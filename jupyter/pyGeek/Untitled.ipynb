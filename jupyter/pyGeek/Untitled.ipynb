{
 "cells": [
  {
   "cell_type": "markdown",
   "metadata": {},
   "source": [
    "# 闪亮标题"
   ]
  },
  {
   "cell_type": "code",
   "execution_count": 2,
   "metadata": {},
   "outputs": [
    {
     "name": "stdout",
     "output_type": "stream",
     "text": [
      "000000000000000\n"
     ]
    }
   ],
   "source": [
    "# 字典设置默认无输出的情况\n",
    "\n",
    "dict1 = {1:'a', 2:'b'}\n",
    "result = dict1.setdefault('3', '000000000000000')\n",
    "print(result)"
   ]
  },
  {
   "cell_type": "markdown",
   "metadata": {
    "collapsed": true
   },
   "source": [
    "### 建议01:  优化类型检查"
   ]
  },
  {
   "cell_type": "code",
   "execution_count": 5,
   "metadata": {},
   "outputs": [
    {
     "name": "stdout",
     "output_type": "stream",
     "text": [
      "<class 'int'>\n",
      "True\n"
     ]
    }
   ],
   "source": [
    "# 不推荐使用type(x)来进行类型检查\n",
    "x = 1\n",
    "\n",
    "print(type(x))\n",
    "\n",
    "import types\n",
    "\n",
    "# if type(x) is types.IntType:\n",
    "#     print('x is int')\n",
    "\n",
    "#推荐使用isinstance(x,int)\n",
    "print(isinstance(x,int))\n"
   ]
  },
  {
   "cell_type": "markdown",
   "metadata": {},
   "source": [
    "### 建议02:使用enumerate()获取序列迭代的索引和值, 使用字典的迭代器获取迭代过程中的key,value"
   ]
  },
  {
   "cell_type": "code",
   "execution_count": 9,
   "metadata": {},
   "outputs": [
    {
     "name": "stdout",
     "output_type": "stream",
     "text": [
      "0 a\n",
      "1 b\n",
      "2 c\n",
      "3 d\n"
     ]
    }
   ],
   "source": [
    "\n",
    "li = ['a', 'b', 'c', 'd']\n",
    "for i, e in enumerate(li):\n",
    "    print(i,e)\n",
    "    \n",
    "# 此为python2的方法\n",
    "# ls = {1:'a', 2:'c'}\n",
    "# for k,v in ls.iteritems():\n",
    "#      print(k,v)"
   ]
  },
  {
   "cell_type": "markdown",
   "metadata": {},
   "source": [
    "### 建议03: 使用else子句简化循环(异常处理)\n",
    "eg: for...  else\n",
    "\n",
    "try-except-else(没有发生异常时)-finally"
   ]
  },
  {
   "cell_type": "markdown",
   "metadata": {},
   "source": [
    "### 建议04  使用join代替+"
   ]
  },
  {
   "cell_type": "markdown",
   "metadata": {},
   "source": [
    "## 设计模式"
   ]
  },
  {
   "cell_type": "markdown",
   "metadata": {},
   "source": [
    "### 单例模式"
   ]
  },
  {
   "cell_type": "markdown",
   "metadata": {},
   "source": [
    "其实，Python 的模块就是天然的单例模式，因为模块在第一次导入时，会生成 .pyc 文件，当第二次导入时，就会直接加载 .pyc 文件，而不会再次执行模块代码。因此，我们只需把相关的函数和数据定义在一个模块中，就可以获得一个单例对象了。如果我们真的想要一个单例类，可以考虑这样做：\n",
    "\n",
    "```python\n",
    "class Singleton(object):\n",
    "    def foo(self):\n",
    "        pass\n",
    "singleton = Singleton()\n",
    "```\n",
    "将上面的代码保存在文件 mysingleton.py 中，要使用时，直接在其他文件中导入此文件中的对象，这个对象即是单例模式的对象\n",
    "```\n",
    "from a import singleton\n",
    "```\n"
   ]
  },
  {
   "cell_type": "markdown",
   "metadata": {},
   "source": [
    "### mixin 模式"
   ]
  },
  {
   "cell_type": "markdown",
   "metadata": {},
   "source": [
    "模板方法就是在一个方法中定义一个算法的骨架, 并将一些实现步骤延迟到子类中, 模板方法可以使子类在不改变算法结构的情况下,重新定义算法中的某些步骤.\n",
    "\n",
    "```python\n",
    "\n",
    "import mixins\n",
    "def staff():\n",
    "    people = People():\n",
    "    bases = []\n",
    "    for i in config.\n",
    " \n",
    "```\n"
   ]
  }
 ],
 "metadata": {
  "kernelspec": {
   "display_name": "Python 3",
   "language": "python",
   "name": "python3"
  },
  "language_info": {
   "codemirror_mode": {
    "name": "ipython",
    "version": 3
   },
   "file_extension": ".py",
   "mimetype": "text/x-python",
   "name": "python",
   "nbconvert_exporter": "python",
   "pygments_lexer": "ipython3",
   "version": "3.6.3"
  }
 },
 "nbformat": 4,
 "nbformat_minor": 2
}
